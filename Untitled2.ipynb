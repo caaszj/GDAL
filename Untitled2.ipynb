{
  "nbformat": 4,
  "nbformat_minor": 0,
  "metadata": {
    "colab": {
      "name": "Untitled2.ipynb",
      "provenance": [],
      "mount_file_id": "1vs--YnvHIJo6NKPlTA5O6YO1jfFnoWWP",
      "authorship_tag": "ABX9TyO1akvrHcl8EGxIlNc3oLX6",
      "include_colab_link": true
    },
    "kernelspec": {
      "name": "python3",
      "display_name": "Python 3"
    },
    "language_info": {
      "name": "python"
    }
  },
  "cells": [
    {
      "cell_type": "markdown",
      "metadata": {
        "id": "view-in-github",
        "colab_type": "text"
      },
      "source": [
        "<a href=\"https://colab.research.google.com/github/wzjcaf/GDAL/blob/main/Untitled2.ipynb\" target=\"_parent\"><img src=\"https://colab.research.google.com/assets/colab-badge.svg\" alt=\"Open In Colab\"/></a>"
      ]
    },
    {
      "cell_type": "code",
      "execution_count": 15,
      "metadata": {
        "id": "Fscg9OdmFWE1"
      },
      "outputs": [],
      "source": [
        "from osgeo import gdal"
      ]
    },
    {
      "cell_type": "code",
      "source": [
        "a = gdal.Open(\"/content/drive/MyDrive/panan.zip (Unzipped Files)/plot_image/10.tif\")\n",
        "a = a.ReadAsArray()\n",
        "print(a.shape)\n",
        "print(type(a))\n",
        "print(a.max())\n",
        "print(a.min())"
      ],
      "metadata": {
        "colab": {
          "base_uri": "https://localhost:8080/"
        },
        "id": "Alj9bODAFp_q",
        "outputId": "e59e771b-560b-4ce7-a77b-a59884e8cc62"
      },
      "execution_count": 16,
      "outputs": [
        {
          "output_type": "stream",
          "name": "stdout",
          "text": [
            "(4, 204, 204)\n",
            "<class 'numpy.ndarray'>\n",
            "255\n",
            "42\n"
          ]
        }
      ]
    },
    {
      "cell_type": "code",
      "source": [
        "b = gdal.Open(\"/content/drive/MyDrive/panan.zip (Unzipped Files)/plot_label/10.tif\")\n",
        "b = b.ReadAsArray()\n",
        "print(b.shape)\n",
        "print(type(b))\n",
        "print(b.max())\n",
        "print(b.min())"
      ],
      "metadata": {
        "colab": {
          "base_uri": "https://localhost:8080/"
        },
        "id": "eggxHbL-GAVM",
        "outputId": "44a6ec30-aa82-408e-a94c-3e14d26b017c"
      },
      "execution_count": 17,
      "outputs": [
        {
          "output_type": "stream",
          "name": "stdout",
          "text": [
            "(204, 204)\n",
            "<class 'numpy.ndarray'>\n",
            "8\n",
            "0\n"
          ]
        }
      ]
    }
  ]
}